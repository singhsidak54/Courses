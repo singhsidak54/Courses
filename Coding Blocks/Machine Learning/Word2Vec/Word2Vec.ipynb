{
 "cells": [
  {
   "cell_type": "markdown",
   "metadata": {},
   "source": [
    "## 1) Find Odd One Out\n",
    "\n",
    "#### In this task we are given a list of words and we're supposed to find the odd one out."
   ]
  },
  {
   "cell_type": "code",
   "execution_count": 1,
   "metadata": {},
   "outputs": [],
   "source": [
    "import numpy as np\n",
    "import gensim\n",
    "from gensim.models import word2vec\n",
    "from gensim.models import KeyedVectors\n",
    "from sklearn.metrics.pairwise import cosine_similarity"
   ]
  },
  {
   "cell_type": "code",
   "execution_count": 2,
   "metadata": {},
   "outputs": [],
   "source": [
    "word_vectors = KeyedVectors.load_word2vec_format('GoogleNews-vectors-negative300.bin',binary=True)"
   ]
  },
  {
   "cell_type": "code",
   "execution_count": 3,
   "metadata": {},
   "outputs": [],
   "source": [
    "input_1 = [\"apple\",\"mango\",\"juice\",\"party\",\"orange\"]\n",
    "input_2 = [\"music\",\"dance\",\"sleep\",\"dancer\",\"food\"]\n",
    "input_3 = [\"match\",\"player\",\"football\",\"cricket\",\"dancer\"]\n",
    "input_4 = [\"india\",\"paris\",\"russia\",\"france\",\"germany\"]"
   ]
  },
  {
   "cell_type": "code",
   "execution_count": 4,
   "metadata": {},
   "outputs": [],
   "source": [
    "def oddOneOut(words):\n",
    "    \n",
    "    \"\"\"This function accepts a list of words and returns the odd one out.\"\"\"\n",
    "    \n",
    "    all_word_vectors = [word_vectors[w] for w in words]\n",
    "    \n",
    "    #Find average vector of all the words\n",
    "    avg_vector = np.mean(all_word_vectors,axis=0)\n",
    "    \n",
    "    odd_one_out = None\n",
    "    min_sim = 1.0\n",
    "    \n",
    "    for w in words:\n",
    "        #Check similarity of each word with the average vector and select the one with least similarity.\n",
    "        sim = cosine_similarity([word_vectors[w]],[avg_vector])\n",
    "        \n",
    "        print(\"Similarity of %s with the average word is : %.2f\"%(w,sim))\n",
    "        if(sim < min_sim):\n",
    "            odd_one_out = w\n",
    "            min_sim = sim\n",
    "    \n",
    "    \n",
    "    return odd_one_out\n",
    "        "
   ]
  },
  {
   "cell_type": "code",
   "execution_count": 5,
   "metadata": {},
   "outputs": [
    {
     "name": "stdout",
     "output_type": "stream",
     "text": [
      "Similarity of apple with the average word is : 0.78\n",
      "Similarity of mango with the average word is : 0.76\n",
      "Similarity of juice with the average word is : 0.71\n",
      "Similarity of party with the average word is : 0.36\n",
      "Similarity of orange with the average word is : 0.65\n"
     ]
    },
    {
     "data": {
      "text/plain": [
       "'party'"
      ]
     },
     "execution_count": 5,
     "metadata": {},
     "output_type": "execute_result"
    }
   ],
   "source": [
    "oddOneOut(input_1)"
   ]
  },
  {
   "cell_type": "code",
   "execution_count": 6,
   "metadata": {},
   "outputs": [
    {
     "name": "stdout",
     "output_type": "stream",
     "text": [
      "Similarity of music with the average word is : 0.66\n",
      "Similarity of dance with the average word is : 0.81\n",
      "Similarity of sleep with the average word is : 0.51\n",
      "Similarity of dancer with the average word is : 0.72\n",
      "Similarity of food with the average word is : 0.52\n"
     ]
    },
    {
     "data": {
      "text/plain": [
       "'sleep'"
      ]
     },
     "execution_count": 6,
     "metadata": {},
     "output_type": "execute_result"
    }
   ],
   "source": [
    "oddOneOut(input_2)"
   ]
  },
  {
   "cell_type": "code",
   "execution_count": 7,
   "metadata": {},
   "outputs": [
    {
     "name": "stdout",
     "output_type": "stream",
     "text": [
      "Similarity of match with the average word is : 0.58\n",
      "Similarity of player with the average word is : 0.68\n",
      "Similarity of football with the average word is : 0.72\n",
      "Similarity of cricket with the average word is : 0.70\n",
      "Similarity of dancer with the average word is : 0.53\n"
     ]
    },
    {
     "data": {
      "text/plain": [
       "'dancer'"
      ]
     },
     "execution_count": 7,
     "metadata": {},
     "output_type": "execute_result"
    }
   ],
   "source": [
    "oddOneOut(input_3)"
   ]
  },
  {
   "cell_type": "code",
   "execution_count": 8,
   "metadata": {},
   "outputs": [
    {
     "name": "stdout",
     "output_type": "stream",
     "text": [
      "Similarity of india with the average word is : 0.81\n",
      "Similarity of paris with the average word is : 0.75\n",
      "Similarity of russia with the average word is : 0.79\n",
      "Similarity of france with the average word is : 0.81\n",
      "Similarity of germany with the average word is : 0.84\n"
     ]
    },
    {
     "data": {
      "text/plain": [
       "'paris'"
      ]
     },
     "execution_count": 8,
     "metadata": {},
     "output_type": "execute_result"
    }
   ],
   "source": [
    "oddOneOut(input_4)"
   ]
  },
  {
   "cell_type": "markdown",
   "metadata": {},
   "source": [
    "## 2) Word Analogies\n",
    "\n",
    "#### In this task we complete the sentence \"if a is to b then c is to ___\""
   ]
  },
  {
   "cell_type": "code",
   "execution_count": 9,
   "metadata": {},
   "outputs": [],
   "source": [
    "def predict_word(a,b,c):\n",
    "    \"\"\"This function accepts a triad of words a,b and c and predicts a word d such that a is to b : b is to d.\"\"\"\n",
    "    \n",
    "    a,b,c = a.lower(),b.lower(),c.lower()\n",
    "    \n",
    "    wa,wb,wc = word_vectors[a],word_vectors[b],word_vectors[c]\n",
    "    \n",
    "    max_sim = -100\n",
    "    d = None\n",
    "    \n",
    "    words = word_vectors.vocab.keys()\n",
    "    \n",
    "    for w in words:\n",
    "        if w in [a,b,c]:\n",
    "            continue\n",
    "        \n",
    "        ww = word_vectors[w]\n",
    "        sim = cosine_similarity([wb - wa],[ww - wc])\n",
    "        \n",
    "        if sim > max_sim:\n",
    "            max_sim = sim\n",
    "            d = w\n",
    "            \n",
    "    \n",
    "    return d"
   ]
  },
  {
   "cell_type": "code",
   "execution_count": 10,
   "metadata": {},
   "outputs": [
    {
     "data": {
      "text/plain": [
       "'princess'"
      ]
     },
     "execution_count": 10,
     "metadata": {},
     "output_type": "execute_result"
    }
   ],
   "source": [
    "triad_1 = (\"man\",\"woman\",\"prince\")\n",
    "predict_word(*triad_1)"
   ]
  },
  {
   "cell_type": "code",
   "execution_count": null,
   "metadata": {},
   "outputs": [],
   "source": []
  }
 ],
 "metadata": {
  "kernelspec": {
   "display_name": "Python 3",
   "language": "python",
   "name": "python3"
  },
  "language_info": {
   "codemirror_mode": {
    "name": "ipython",
    "version": 3
   },
   "file_extension": ".py",
   "mimetype": "text/x-python",
   "name": "python",
   "nbconvert_exporter": "python",
   "pygments_lexer": "ipython3",
   "version": "3.7.2"
  }
 },
 "nbformat": 4,
 "nbformat_minor": 4
}
