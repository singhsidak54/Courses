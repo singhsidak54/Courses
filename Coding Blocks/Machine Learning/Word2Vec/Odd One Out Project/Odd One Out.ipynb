{
 "cells": [
  {
   "cell_type": "markdown",
   "metadata": {},
   "source": [
    "## Find Odd One Out"
   ]
  },
  {
   "cell_type": "code",
   "execution_count": 3,
   "metadata": {},
   "outputs": [],
   "source": [
    "import numpy as np\n",
    "import gensim\n",
    "from gensim.models import word2vec\n",
    "from gensim.models import KeyedVectors\n",
    "from sklearn.metrics.pairwise import cosine_similarity"
   ]
  },
  {
   "cell_type": "code",
   "execution_count": 5,
   "metadata": {},
   "outputs": [],
   "source": [
    "word_vectors = KeyedVectors.load_word2vec_format('GoogleNews-vectors-negative300.bin',binary=True)"
   ]
  },
  {
   "cell_type": "code",
   "execution_count": 6,
   "metadata": {},
   "outputs": [],
   "source": [
    "input_1 = [\"apple\",\"mango\",\"juice\",\"party\",\"orange\"]\n",
    "input_2 = [\"music\",\"dance\",\"sleep\",\"dancer\",\"food\"]\n",
    "input_3 = [\"match\",\"player\",\"football\",\"cricket\",\"dancer\"]\n",
    "input_4 = [\"india\",\"paris\",\"russia\",\"france\",\"germany\"]"
   ]
  },
  {
   "cell_type": "code",
   "execution_count": 19,
   "metadata": {},
   "outputs": [],
   "source": [
    "def oddOneOut(words):\n",
    "    \n",
    "    \"\"\"This function accepts a list of words and returns the odd one out.\"\"\"\n",
    "    \n",
    "    all_word_vectors = [word_vectors[w] for w in words]\n",
    "    \n",
    "    #Find average vector of all the words\n",
    "    avg_vector = np.mean(all_word_vectors,axis=0)\n",
    "    \n",
    "    odd_one_out = None\n",
    "    min_sim = 1.0\n",
    "    \n",
    "    for w in words:\n",
    "        #Check similarity of each word with the average vector and select the one with least similarity.\n",
    "        sim = cosine_similarity([word_vectors[w]],[avg_vector])\n",
    "        \n",
    "        print(\"Similarity of %s with the average word is : %.2f\"%(w,sim))\n",
    "        if(sim < min_sim):\n",
    "            odd_one_out = w\n",
    "            min_sim = sim\n",
    "    \n",
    "    \n",
    "    return odd_one_out\n",
    "        "
   ]
  },
  {
   "cell_type": "code",
   "execution_count": 20,
   "metadata": {},
   "outputs": [
    {
     "name": "stdout",
     "output_type": "stream",
     "text": [
      "Similarity of apple with the average word is : 0.78\n",
      "Similarity of mango with the average word is : 0.76\n",
      "Similarity of juice with the average word is : 0.71\n",
      "Similarity of party with the average word is : 0.36\n",
      "Similarity of orange with the average word is : 0.65\n"
     ]
    },
    {
     "data": {
      "text/plain": [
       "'party'"
      ]
     },
     "execution_count": 20,
     "metadata": {},
     "output_type": "execute_result"
    }
   ],
   "source": [
    "oddOneOut(input_1)"
   ]
  },
  {
   "cell_type": "code",
   "execution_count": 21,
   "metadata": {},
   "outputs": [
    {
     "name": "stdout",
     "output_type": "stream",
     "text": [
      "Similarity of music with the average word is : 0.66\n",
      "Similarity of dance with the average word is : 0.81\n",
      "Similarity of sleep with the average word is : 0.51\n",
      "Similarity of dancer with the average word is : 0.72\n",
      "Similarity of food with the average word is : 0.52\n"
     ]
    },
    {
     "data": {
      "text/plain": [
       "'sleep'"
      ]
     },
     "execution_count": 21,
     "metadata": {},
     "output_type": "execute_result"
    }
   ],
   "source": [
    "oddOneOut(input_2)"
   ]
  },
  {
   "cell_type": "code",
   "execution_count": 22,
   "metadata": {},
   "outputs": [
    {
     "name": "stdout",
     "output_type": "stream",
     "text": [
      "Similarity of match with the average word is : 0.58\n",
      "Similarity of player with the average word is : 0.68\n",
      "Similarity of football with the average word is : 0.72\n",
      "Similarity of cricket with the average word is : 0.70\n",
      "Similarity of dancer with the average word is : 0.53\n"
     ]
    },
    {
     "data": {
      "text/plain": [
       "'dancer'"
      ]
     },
     "execution_count": 22,
     "metadata": {},
     "output_type": "execute_result"
    }
   ],
   "source": [
    "oddOneOut(input_3)"
   ]
  },
  {
   "cell_type": "code",
   "execution_count": 23,
   "metadata": {},
   "outputs": [
    {
     "name": "stdout",
     "output_type": "stream",
     "text": [
      "Similarity of india with the average word is : 0.81\n",
      "Similarity of paris with the average word is : 0.75\n",
      "Similarity of russia with the average word is : 0.79\n",
      "Similarity of france with the average word is : 0.81\n",
      "Similarity of germany with the average word is : 0.84\n"
     ]
    },
    {
     "data": {
      "text/plain": [
       "'paris'"
      ]
     },
     "execution_count": 23,
     "metadata": {},
     "output_type": "execute_result"
    }
   ],
   "source": [
    "oddOneOut(input_4)"
   ]
  },
  {
   "cell_type": "code",
   "execution_count": null,
   "metadata": {},
   "outputs": [],
   "source": []
  }
 ],
 "metadata": {
  "kernelspec": {
   "display_name": "Python 3",
   "language": "python",
   "name": "python3"
  },
  "language_info": {
   "codemirror_mode": {
    "name": "ipython",
    "version": 3
   },
   "file_extension": ".py",
   "mimetype": "text/x-python",
   "name": "python",
   "nbconvert_exporter": "python",
   "pygments_lexer": "ipython3",
   "version": "3.7.2"
  }
 },
 "nbformat": 4,
 "nbformat_minor": 4
}
